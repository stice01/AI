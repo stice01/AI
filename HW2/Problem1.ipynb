{
  "nbformat": 4,
  "nbformat_minor": 0,
  "metadata": {
    "colab": {
      "provenance": [],
      "authorship_tag": "ABX9TyPEAIqc6WuJJ4ibCiklNS+P",
      "include_colab_link": true
    },
    "kernelspec": {
      "name": "python3",
      "display_name": "Python 3"
    },
    "language_info": {
      "name": "python"
    }
  },
  "cells": [
    {
      "cell_type": "markdown",
      "metadata": {
        "id": "view-in-github",
        "colab_type": "text"
      },
      "source": [
        "<a href=\"https://colab.research.google.com/github/stice01/AI/blob/main/HW2/Problem1.ipynb\" target=\"_parent\"><img src=\"https://colab.research.google.com/assets/colab-badge.svg\" alt=\"Open In Colab\"/></a>"
      ]
    },
    {
      "cell_type": "code",
      "execution_count": null,
      "metadata": {
        "colab": {
          "base_uri": "https://localhost:8080/"
        },
        "id": "EqISMyyqAW7K",
        "outputId": "1d066ff4-4edc-4f89-9a47-3eb6fcb08a37"
      },
      "outputs": [
        {
          "output_type": "stream",
          "name": "stdout",
          "text": [
            "Anna Amy "
          ]
        }
      ],
      "source": [
        "#HW2 problem 1 Simon Tice\n",
        "from collections import deque\n",
        "\n",
        "#directed graph to show relations\n",
        "graph = {\n",
        "  \"Bob\" : [\"Rob\", \"Richard\", \"Pam\"],\n",
        "  \"Rob\" : [],\n",
        "  \"Richard\" : [],\n",
        "  \"Pam\" : [\"Roger\", \"Peter\"],\n",
        "  \"Roger\" : [\"Anna\"],\n",
        "  \"Anna\" : [],\n",
        "  \"Peter\" :  [\"Amy\"],\n",
        "  \"Amy\" : []\n",
        "}\n",
        "\n",
        "\n",
        "def FindFriends(graph, user, k):\n",
        "    visited = set() #keeps track of visited nodes\n",
        "    queue = deque([(user, 0)])  # stores node and level in tuple to keep track of both\n",
        "    visited.add(user)\n",
        "\n",
        "    while queue: #explore the queue while its not empty\n",
        "      vertex, level = queue.popleft() #dequeue node and its level\n",
        "\n",
        "      if level == k: #if the level = k we reached our goal level and we print all the friends at this level\n",
        "        print(vertex, end=\" \")\n",
        "\n",
        "      if level < k: #if level is not the goal level enqueue child nodes an mark nodes as visited\n",
        "        for neighbor in graph[vertex]:\n",
        "            if neighbor not in visited:\n",
        "                visited.add(neighbor)\n",
        "                queue.append((neighbor, level+1)) #add to the queue and add 1 to level to keep track\n",
        "\n",
        "FindFriends(graph, \"Bob\", 3)"
      ]
    }
  ]
}